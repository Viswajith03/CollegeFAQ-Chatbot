{
 "cells": [
  {
   "cell_type": "code",
   "execution_count": 6,
   "metadata": {},
   "outputs": [
    {
     "data": {
      "text/plain": [
       "'c:\\\\Users\\\\Viswajith13\\\\Desktop\\\\CHATBOT\\\\CollegeFAQ-Chatbot\\\\research'"
      ]
     },
     "execution_count": 6,
     "metadata": {},
     "output_type": "execute_result"
    }
   ],
   "source": [
    "%pwd"
   ]
  },
  {
   "cell_type": "code",
   "execution_count": 7,
   "metadata": {},
   "outputs": [],
   "source": [
    "import os\n",
    "os.chdir(\"../\")"
   ]
  },
  {
   "cell_type": "code",
   "execution_count": 8,
   "metadata": {},
   "outputs": [
    {
     "data": {
      "text/plain": [
       "'c:\\\\Users\\\\Viswajith13\\\\Desktop\\\\CHATBOT\\\\CollegeFAQ-Chatbot'"
      ]
     },
     "execution_count": 8,
     "metadata": {},
     "output_type": "execute_result"
    }
   ],
   "source": [
    "%pwd"
   ]
  },
  {
   "cell_type": "code",
   "execution_count": 9,
   "metadata": {},
   "outputs": [],
   "source": [
    "from langchain.document_loaders import PyPDFLoader, DirectoryLoader\n",
    "from langchain.text_splitter import RecursiveCharacterTextSplitter"
   ]
  },
  {
   "cell_type": "code",
   "execution_count": 10,
   "metadata": {},
   "outputs": [],
   "source": [
    "#Loading the pdf files\n",
    "def load_pdf_file(data):\n",
    "    loader= DirectoryLoader(data,\n",
    "                            glob=\"*.pdf\",\n",
    "                            loader_cls=PyPDFLoader)\n",
    "\n",
    "    documents=loader.load()\n",
    "\n",
    "    return documents"
   ]
  },
  {
   "cell_type": "code",
   "execution_count": 11,
   "metadata": {},
   "outputs": [],
   "source": [
    "extracted_data=load_pdf_file(data='Data/')"
   ]
  },
  {
   "cell_type": "code",
   "execution_count": 12,
   "metadata": {},
   "outputs": [],
   "source": [
    "#extracted_data"
   ]
  },
  {
   "cell_type": "code",
   "execution_count": 13,
   "metadata": {},
   "outputs": [],
   "source": [
    "#Splitting Data to Chunks\n",
    "def text_split(extracted_data):\n",
    "    text_splitter=RecursiveCharacterTextSplitter(chunk_size=500, chunk_overlap=20)\n",
    "    text_chunks=text_splitter.split_documents(extracted_data)\n",
    "    return text_chunks"
   ]
  },
  {
   "cell_type": "code",
   "execution_count": 14,
   "metadata": {},
   "outputs": [
    {
     "name": "stdout",
     "output_type": "stream",
     "text": [
      "Length of Text Chunks 12\n"
     ]
    }
   ],
   "source": [
    "text_chunks=text_split(extracted_data)\n",
    "print(\"Length of Text Chunks\", len(text_chunks))"
   ]
  },
  {
   "cell_type": "code",
   "execution_count": 12,
   "metadata": {},
   "outputs": [
    {
     "data": {
      "text/plain": [
       "[Document(metadata={'source': 'Data\\\\College_book.pdf', 'page': 0}, page_content='Vishwa School of Engineering - Information Handbook \\nAdmission Procedure \\n \\n1. Check Eligibility: Candidates must meet the required academic qualifications, including a \\nminimum of 60% in 12th grade (Science stream) with Physics, Chemistry, and Mathematics. \\n2. Entrance Exam: Appear for the Vishwa Engineering Entrance Test (VEET) or provide \\nvalid scores for JEE Mains. The VEET is conducted twice a year, with detailed syllabi \\navailable on our website.'),\n",
       " Document(metadata={'source': 'Data\\\\College_book.pdf', 'page': 0}, page_content='3. Application Process: Submit the online application through our user-friendly portal. \\nTrack your application status in real time. \\n4. Counseling and Seat Allotment: Participate in a seamless counseling process, with options \\nto choose preferred branches based on merit. \\n5. Fee Payment and Document Verification: Pay fees online through secure gateways and \\ncomplete in-person or virtual document verification.'),\n",
       " Document(metadata={'source': 'Data\\\\College_book.pdf', 'page': 0}, page_content='6. Admission Confirmation: Receive an official admission letter, along with access to the \\nstudent portal and orientation schedule. \\n \\nCampus Locations \\n \\n1. Bengaluru, Karnataka: \\n   The Vishwa School of Engineering is located at NH-48, Near City Mall, Bengaluru, \\nKarnataka, India.  \\n   The campus boasts a serene environment with lush greenery and modern infrastructure. \\nIt is well-connected by public transportation and just 20 km from the airport.'),\n",
       " Document(metadata={'source': 'Data\\\\College_book.pdf', 'page': 0}, page_content='Nearby amenities include shopping malls, restaurants, and cultural centers, providing \\nstudents with a balanced lifestyle. \\n \\n2. Kochi, Kerala: \\n   The campus is nestled near the serene backwaters of Kerala, offering a peaceful and \\ninspiring atmosphere for students.  \\n   It features modern facilities surrounded by nature, with easy access to public \\ntransportation. The campus is located just 15 km from the Kochi International Airport. \\n \\n3. Chennai, Tamil Nadu:'),\n",
       " Document(metadata={'source': 'Data\\\\College_book.pdf', 'page': 0}, page_content='Situated in the educational hub of Tamil Nadu, this campus combines academic excellence \\nwith cultural richness.  \\n   It is well-connected by metro and rail services and located only 10 km from Chennai \\nInternational Airport.  \\n   The campus hosts state-of-the-art labs, libraries, and a vibrant student community.'),\n",
       " Document(metadata={'source': 'Data\\\\College_book.pdf', 'page': 1}, page_content='4. Hyderabad, Telangana: \\n   Located in the heart of the tech capital of Telangana, the campus is surrounded by IT parks \\nand research hubs.  \\n   It is well-connected via metro and bus services, making it accessible for students. The \\nHyderabad campus is known for its advanced research facilities and innovation centers. \\n \\n5. Amaravati, Andhra Pradesh: \\n   Positioned in the upcoming smart city region of Amaravati, this campus provides a \\npeaceful yet resource-rich environment for learning.'),\n",
       " Document(metadata={'source': 'Data\\\\College_book.pdf', 'page': 1}, page_content='It is located 25 km from Vijayawada Airport and features cutting-edge facilities for \\nacademics and research. \\n \\n6. New Delhi: \\n   The campus is located in the vibrant capital of India, offering students excellent exposure \\nto industry leaders and government institutions.  \\n   It is well-connected by metro and road, with proximity to major landmarks. The New Delhi \\ncampus emphasizes collaboration with top-tier organizations for internships and \\nplacements. \\n \\nFee Structure (INR)'),\n",
       " Document(metadata={'source': 'Data\\\\College_book.pdf', 'page': 1}, page_content='- B.Tech Programs: INR 1,50,000 per year (includes tuition and lab fees) \\n- M.Tech Programs: INR 1,00,000 per year \\n- Ph.D. Programs: INR 75,000 per year \\n- Hostel Fees: INR 60,000 per year (includes boarding and food) \\nPayment options include easy installment plans through secure payment portals. \\nScholarships can significantly reduce the fees. \\n \\nContact Information \\n \\nName: Viswajith Viswanathan Nair \\nPhone: +91 8848238978 \\nEmail: admin@vishwa.com'),\n",
       " Document(metadata={'source': 'Data\\\\College_book.pdf', 'page': 1}, page_content='Office Hours: Monday to Friday, 9:00 AM to 6:00 PM \\n \\nHostel and Facilities \\n \\n- Spacious, air-conditioned rooms with high-speed Wi-Fi. \\n- Dedicated mess facilities serving hygienic and nutritious meals. \\n- Recreation areas, cultural event halls, and eco-friendly initiatives like solar power and \\nrainwater harvesting.'),\n",
       " Document(metadata={'source': 'Data\\\\College_book.pdf', 'page': 2}, page_content='- Vibrant student communities, including technology clubs, cultural societies, and sports \\nteams. \\n \\nScholarships \\n \\n- Merit-Based Scholarships: Up to 50% tuition fee waiver for top performers in VEET or JEE \\nMains. \\n- Need-Based Scholarships: Financial assistance for economically weaker sections. \\n- Sports Scholarships: Dedicated scholarships for state and national-level athletes. \\n- Application Process: Submit scholarship forms along with required documents before the'),\n",
       " Document(metadata={'source': 'Data\\\\College_book.pdf', 'page': 2}, page_content='deadline. Renewal is based on consistent academic performance. \\n \\nPlacement Opportunities \\n \\n- Over 200 recruiting companies, including Infosys, TCS, Wipro, Amazon, and Microsoft. \\n- Dedicated placement cell offering mock interviews, resume building workshops, and \\ninternship opportunities. \\n- Partnership with global tech leaders for live projects and industry exposure. \\n- Average package: INR 8 LPA. Highest package: INR 25 LPA.'),\n",
       " Document(metadata={'source': 'Data\\\\College_book.pdf', 'page': 2}, page_content='- Alumni have secured prestigious roles in Fortune 500 companies.')]"
      ]
     },
     "execution_count": 12,
     "metadata": {},
     "output_type": "execute_result"
    }
   ],
   "source": [
    "#text_chunks"
   ]
  },
  {
   "cell_type": "code",
   "execution_count": 15,
   "metadata": {},
   "outputs": [],
   "source": [
    "from langchain.embeddings import HuggingFaceEmbeddings"
   ]
  },
  {
   "cell_type": "code",
   "execution_count": 16,
   "metadata": {},
   "outputs": [],
   "source": [
    "#Function to download embeddings from Hugging Face\n",
    "def download_hugging_face_embeddings():\n",
    "    embeddings=HuggingFaceEmbeddings(model_name='sentence-transformers/all-MiniLM-L6-v2')\n",
    "    return embeddings"
   ]
  },
  {
   "cell_type": "code",
   "execution_count": 17,
   "metadata": {},
   "outputs": [
    {
     "name": "stderr",
     "output_type": "stream",
     "text": [
      "C:\\Users\\Viswajith13\\AppData\\Local\\Temp\\ipykernel_20192\\3440179883.py:3: LangChainDeprecationWarning: The class `HuggingFaceEmbeddings` was deprecated in LangChain 0.2.2 and will be removed in 1.0. An updated version of the class exists in the :class:`~langchain-huggingface package and should be used instead. To use it run `pip install -U :class:`~langchain-huggingface` and import as `from :class:`~langchain_huggingface import HuggingFaceEmbeddings``.\n",
      "  embeddings=HuggingFaceEmbeddings(model_name='sentence-transformers/all-MiniLM-L6-v2')\n",
      "c:\\Users\\Viswajith13\\anaconda3\\envs\\clgbot\\lib\\site-packages\\tqdm\\auto.py:21: TqdmWarning: IProgress not found. Please update jupyter and ipywidgets. See https://ipywidgets.readthedocs.io/en/stable/user_install.html\n",
      "  from .autonotebook import tqdm as notebook_tqdm\n"
     ]
    }
   ],
   "source": [
    "embeddings = download_hugging_face_embeddings()"
   ]
  },
  {
   "cell_type": "code",
   "execution_count": 18,
   "metadata": {},
   "outputs": [
    {
     "name": "stdout",
     "output_type": "stream",
     "text": [
      "Length 384\n"
     ]
    }
   ],
   "source": [
    "query_result = embeddings.embed_query(\"Hello world\")\n",
    "print(\"Length\", len(query_result))"
   ]
  },
  {
   "cell_type": "code",
   "execution_count": 19,
   "metadata": {},
   "outputs": [],
   "source": [
    "#query_result"
   ]
  },
  {
   "cell_type": "code",
   "execution_count": 20,
   "metadata": {},
   "outputs": [
    {
     "data": {
      "text/plain": [
       "True"
      ]
     },
     "execution_count": 20,
     "metadata": {},
     "output_type": "execute_result"
    }
   ],
   "source": [
    "from dotenv import load_dotenv\n",
    "load_dotenv()"
   ]
  },
  {
   "cell_type": "code",
   "execution_count": 21,
   "metadata": {},
   "outputs": [],
   "source": [
    "PINECONE_API_KEY=os.environ.get('PINECONE_API_KEY')\n",
    "OPENAI_API_KEY=os.environ.get('OPENAI_API_KEY')"
   ]
  },
  {
   "cell_type": "code",
   "execution_count": 22,
   "metadata": {},
   "outputs": [],
   "source": [
    "from pinecone.grpc import PineconeGRPC as Pinecone\n",
    "from pinecone import ServerlessSpec\n",
    "import os\n",
    "\n",
    "pc = Pinecone(api_key=PINECONE_API_KEY)\n",
    "\n",
    "index_name = \"clgbot\"\n",
    "\n",
    "\n",
    "pc.create_index(\n",
    "    name=index_name,\n",
    "    dimension=384, \n",
    "    metric=\"cosine\", \n",
    "    spec=ServerlessSpec(\n",
    "        cloud=\"aws\", \n",
    "        region=\"us-east-1\"\n",
    "    ) \n",
    ") "
   ]
  },
  {
   "cell_type": "code",
   "execution_count": 23,
   "metadata": {},
   "outputs": [],
   "source": [
    "import os\n",
    "os.environ[\"PINECONE_API_KEY\"] = PINECONE_API_KEY\n",
    "os.environ[\"OPENAI_API_KEY\"] = OPENAI_API_KEY"
   ]
  },
  {
   "cell_type": "code",
   "execution_count": 24,
   "metadata": {},
   "outputs": [],
   "source": [
    "# Embedding each chunk and uploading them to pinecone database for using as knowledgebase for Models\n",
    "from langchain_pinecone import PineconeVectorStore\n",
    "\n",
    "docsearch = PineconeVectorStore.from_documents(\n",
    "    documents=text_chunks,\n",
    "    index_name=index_name,\n",
    "    embedding=embeddings, \n",
    ")"
   ]
  },
  {
   "cell_type": "code",
   "execution_count": 25,
   "metadata": {},
   "outputs": [],
   "source": [
    "# Loading the index stored in pinecone to project \n",
    "\n",
    "from langchain_pinecone import PineconeVectorStore\n",
    "docsearch = PineconeVectorStore.from_existing_index(\n",
    "    index_name=index_name,\n",
    "    embedding=embeddings\n",
    ")"
   ]
  },
  {
   "cell_type": "code",
   "execution_count": 26,
   "metadata": {},
   "outputs": [
    {
     "data": {
      "text/plain": [
       "<langchain_pinecone.vectorstores.PineconeVectorStore at 0x17c01ecb730>"
      ]
     },
     "execution_count": 26,
     "metadata": {},
     "output_type": "execute_result"
    }
   ],
   "source": [
    "docsearch"
   ]
  },
  {
   "cell_type": "code",
   "execution_count": 27,
   "metadata": {},
   "outputs": [],
   "source": [
    "retriever = docsearch.as_retriever(search_type=\"similarity\", search_kwargs={\"k\":3})"
   ]
  },
  {
   "cell_type": "code",
   "execution_count": 28,
   "metadata": {},
   "outputs": [],
   "source": [
    "retrieved_docs = retriever.invoke(\"Where is the campus located?\")"
   ]
  },
  {
   "cell_type": "code",
   "execution_count": 29,
   "metadata": {},
   "outputs": [
    {
     "data": {
      "text/plain": [
       "[Document(id='c8e2fe4e-9ac0-4e77-baa5-4a42aa34c9e2', metadata={'page': 0.0, 'source': 'Data\\\\College_book.pdf'}, page_content='Situated in the educational hub of Tamil Nadu, this campus combines academic excellence \\nwith cultural richness.  \\n   It is well-connected by metro and rail services and located only 10 km from Chennai \\nInternational Airport.  \\n   The campus hosts state-of-the-art labs, libraries, and a vibrant student community.'),\n",
       " Document(id='e9045d41-c207-49c4-89a4-461b273b3b54', metadata={'page': 1.0, 'source': 'Data\\\\College_book.pdf'}, page_content='It is located 25 km from Vijayawada Airport and features cutting-edge facilities for \\nacademics and research. \\n \\n6. New Delhi: \\n   The campus is located in the vibrant capital of India, offering students excellent exposure \\nto industry leaders and government institutions.  \\n   It is well-connected by metro and road, with proximity to major landmarks. The New Delhi \\ncampus emphasizes collaboration with top-tier organizations for internships and \\nplacements. \\n \\nFee Structure (INR)'),\n",
       " Document(id='3c966c02-0c6b-422e-a216-d8b964b65d51', metadata={'page': 0.0, 'source': 'Data\\\\College_book.pdf'}, page_content='Nearby amenities include shopping malls, restaurants, and cultural centers, providing \\nstudents with a balanced lifestyle. \\n \\n2. Kochi, Kerala: \\n   The campus is nestled near the serene backwaters of Kerala, offering a peaceful and \\ninspiring atmosphere for students.  \\n   It features modern facilities surrounded by nature, with easy access to public \\ntransportation. The campus is located just 15 km from the Kochi International Airport. \\n \\n3. Chennai, Tamil Nadu:')]"
      ]
     },
     "execution_count": 29,
     "metadata": {},
     "output_type": "execute_result"
    }
   ],
   "source": [
    "retrieved_docs"
   ]
  },
  {
   "cell_type": "code",
   "execution_count": 1,
   "metadata": {},
   "outputs": [],
   "source": [
    "from langchain_openai import OpenAI\n",
    "llm = OpenAI(temperature=0.4, max_tokens=500)"
   ]
  },
  {
   "cell_type": "code",
   "execution_count": 2,
   "metadata": {},
   "outputs": [],
   "source": [
    "from langchain.chains import create_retrieval_chain\n",
    "from langchain.chains.combine_documents import create_stuff_documents_chain\n",
    "from langchain_core.prompts import ChatPromptTemplate\n",
    "\n",
    "\n",
    "system_prompt = (\n",
    "    \"You are an assistant for question-answering tasks. \"\n",
    "    \"Use the following pieces of retrieved context to answer \"\n",
    "    \"the question. If you don't know the answer, say that you \"\n",
    "    \"don't know. Use three sentences maximum and keep the \"\n",
    "    \"answer concise.\"\n",
    "    \"\\n\\n\"\n",
    "    \"{context}\"\n",
    ")\n",
    "\n",
    "\n",
    "prompt = ChatPromptTemplate.from_messages(\n",
    "    [\n",
    "        (\"system\", system_prompt),\n",
    "        (\"human\", \"{input}\"),\n",
    "    ]\n",
    ")"
   ]
  },
  {
   "cell_type": "code",
   "execution_count": 3,
   "metadata": {},
   "outputs": [
    {
     "ename": "NameError",
     "evalue": "name 'retriever' is not defined",
     "output_type": "error",
     "traceback": [
      "\u001b[1;31m---------------------------------------------------------------------------\u001b[0m",
      "\u001b[1;31mNameError\u001b[0m                                 Traceback (most recent call last)",
      "Cell \u001b[1;32mIn[3], line 2\u001b[0m\n\u001b[0;32m      1\u001b[0m question_answer_chain \u001b[38;5;241m=\u001b[39m create_stuff_documents_chain(llm, prompt)\n\u001b[1;32m----> 2\u001b[0m rag_chain \u001b[38;5;241m=\u001b[39m create_retrieval_chain(\u001b[43mretriever\u001b[49m, question_answer_chain)\n",
      "\u001b[1;31mNameError\u001b[0m: name 'retriever' is not defined"
     ]
    }
   ],
   "source": [
    "question_answer_chain = create_stuff_documents_chain(llm, prompt)\n",
    "rag_chain = create_retrieval_chain(retriever, question_answer_chain)"
   ]
  },
  {
   "cell_type": "code",
   "execution_count": 91,
   "metadata": {},
   "outputs": [
    {
     "name": "stdout",
     "output_type": "stream",
     "text": [
      "\n",
      "\n",
      "The admission criteria for Vishwa School of Engineering include meeting the required academic qualifications, appearing for the Vishwa Engineering Entrance Test (VEET) or providing valid scores for JEE Mains, and paying the required fees. Scholarships are also available for top performers, economically weaker students, and state and national-level athletes.\n"
     ]
    }
   ],
   "source": [
    "response = rag_chain.invoke({\"input\": \"What are the admission criteria?\"})\n",
    "print(response[\"answer\"])"
   ]
  },
  {
   "cell_type": "code",
   "execution_count": null,
   "metadata": {},
   "outputs": [],
   "source": []
  }
 ],
 "metadata": {
  "kernelspec": {
   "display_name": "clgbot",
   "language": "python",
   "name": "python3"
  },
  "language_info": {
   "codemirror_mode": {
    "name": "ipython",
    "version": 3
   },
   "file_extension": ".py",
   "mimetype": "text/x-python",
   "name": "python",
   "nbconvert_exporter": "python",
   "pygments_lexer": "ipython3",
   "version": "3.10.16"
  }
 },
 "nbformat": 4,
 "nbformat_minor": 2
}
